{
 "cells": [
  {
   "attachments": {},
   "cell_type": "markdown",
   "metadata": {},
   "source": [
    "### Company Payroll with Classes"
   ]
  },
  {
   "attachments": {},
   "cell_type": "markdown",
   "metadata": {},
   "source": [
    "- \\__init__() lets us initialize our robot's properties.\n",
    "- <strong>self</strong> is always the first parameter in an \\__init__() and it refers to the instance of the class that we are creating or the current object.\n",
    "- The remaining parameters are the values for the properties that we want to initialize."
   ]
  },
  {
   "cell_type": "code",
   "execution_count": 4,
   "metadata": {},
   "outputs": [],
   "source": [
    "class Employee:\n",
    "    def __init__(self, fname, lname, salary):\n",
    "        self.fname = fname\n",
    "        self.lname = lname\n",
    "        self.salary = salary\n",
    "\n",
    "    def calculate_paycheck(self):\n",
    "        return self.salary/52"
   ]
  },
  {
   "cell_type": "code",
   "execution_count": 5,
   "metadata": {},
   "outputs": [
    {
     "name": "stdout",
     "output_type": "stream",
     "text": [
      "Current Employees:\n",
      "Sarah Hess\n",
      "Lee Smith\n",
      "Bob Brown\n",
      "--------------------\n",
      "Paying Employees\n",
      "Payment check for: Sarah Hess\n",
      "Amount: $961.54\n",
      "*****\n",
      "Payment check for: Lee Smith\n",
      "Amount: $480.77\n",
      "*****\n",
      "Payment check for: Bob Brown\n",
      "Amount: $1,153.85\n",
      "*****\n"
     ]
    }
   ],
   "source": [
    "class Company:\n",
    "    def __init__(self):\n",
    "        self.employees = []\n",
    "\n",
    "    def add_employee(self, new_employee):\n",
    "        self.employees.append(new_employee)\n",
    "\n",
    "    def display_employees(self):\n",
    "        print('Current Employees:')\n",
    "        for i in self.employees:\n",
    "            print(i.fname, i.lname)\n",
    "        print('-'*20)\n",
    "\n",
    "    def pay_employees(self):\n",
    "        print('Paying Employees')\n",
    "        for i in self.employees:\n",
    "            print('Payment check for:', i.fname, i.lname)\n",
    "            print(f'Amount: ${i.calculate_paycheck():,.2f}')\n",
    "            print('*' * 5)\n",
    "\n",
    "def main():\n",
    "    my_company = Company()\n",
    "\n",
    "    employee1 = Employee('Sarah', 'Hess', 50000)\n",
    "    my_company.add_employee(employee1)\n",
    "    employee2 = Employee('Lee', 'Smith', 25000)\n",
    "    my_company.add_employee(employee2)\n",
    "    employee3 = Employee('Bob', 'Brown', 60000)\n",
    "    my_company.add_employee(employee3)\n",
    "\n",
    "    my_company.display_employees()\n",
    "    my_company.pay_employees()\n",
    "\n",
    "main()\n"
   ]
  },
  {
   "attachments": {},
   "cell_type": "markdown",
   "metadata": {},
   "source": [
    "### Inheritance (Is-a)\n",
    "- So far we have worked with Has-a relationship. For eg. A Robot Has-a Battery, RAM, Light, Legs etc\n",
    "- Now we will look into Is-a relationship. For eg. A RobotCat Is-a Robot and a RobotDog also Is-a Robot\n",
    "- The inheritance (Is-a) concept allows us model real-world  relationships, also, It lets us reuse code."
   ]
  },
  {
   "cell_type": "code",
   "execution_count": 6,
   "metadata": {},
   "outputs": [
    {
     "name": "stdout",
     "output_type": "stream",
     "text": [
      "My name is Bud\n",
      "New poosition: [10, 0]\n",
      "Woof Woof!\n",
      "I am hungry\n",
      "I like bacon\n"
     ]
    }
   ],
   "source": [
    "class Robot:\n",
    "\n",
    "    def __init__(self, name):\n",
    "        self.name = name\n",
    "        self.position = [0, 0]\n",
    "        print(\"My name is\", self.name)\n",
    "\n",
    "    def walk(self, x):\n",
    "        self.position[0] = self.position[0] + x\n",
    "        print('New poosition:', self.position)\n",
    "\n",
    "    def eat(self):\n",
    "        print('I am hungry')\n",
    "\n",
    "class RobotDog(Robot):\n",
    "\n",
    "    def make_noise(self):\n",
    "        print('Woof Woof!')\n",
    "\n",
    "    # Method Overriding\n",
    "    def eat(self):\n",
    "        super().eat()\n",
    "        print('I like bacon')\n",
    "\n",
    "# Main program\n",
    "my_robot_dog = RobotDog('Bud')\n",
    "my_robot_dog.walk(10)\n",
    "my_robot_dog.make_noise()\n",
    "my_robot_dog.eat()"
   ]
  },
  {
   "cell_type": "code",
   "execution_count": 15,
   "metadata": {},
   "outputs": [],
   "source": [
    "class Employee:\n",
    "    def __init__(self, fname, lname):\n",
    "        self.fname = fname\n",
    "        self.lname = lname\n",
    "\n",
    "    \n",
    "class SalaryEmployee(Employee):\n",
    "    def __init__(self, fname, lname, salary):\n",
    "        super().__init__(fname, lname)\n",
    "        self.salary = salary\n",
    "\n",
    "    def calculate_paycheck(self):\n",
    "        return self.salary/52\n",
    "\n",
    "class HourlyEmployee(Employee):\n",
    "    def __init__(self, fname, lname, weekly_hours, hourly_rate):\n",
    "        super().__init__(fname, lname)\n",
    "        self.weekly_hours = weekly_hours\n",
    "        self.hourly_rate = hourly_rate\n",
    "\n",
    "    def calculate_paycheck(self):\n",
    "        return self.weekly_hours * self.hourly_rate\n",
    "\n",
    "# Since Commission empoyees are SalaryEmpoyee receiving extra pay on the basis of some additional parameters. Hence we can say that there is an Is-a relation.\n",
    "class CommissionEmployee(SalaryEmployee):\n",
    "    def __init__(self, fname, lname, salary, sales_num, com_rate):\n",
    "        super().__init__(fname, lname, salary)\n",
    "        self.sales_num = sales_num\n",
    "        self.com_rate = com_rate\n",
    "\n",
    "    def calculate_paycheck(self):\n",
    "        regular_salary = super().calculate_paycheck()\n",
    "        total_commission = self.sales_num * self.com_rate\n",
    "        return  regular_salary + total_commission\n"
   ]
  },
  {
   "cell_type": "code",
   "execution_count": 16,
   "metadata": {},
   "outputs": [
    {
     "name": "stdout",
     "output_type": "stream",
     "text": [
      "Current Employees:\n",
      "Sarah Hess\n",
      "Lee Smith\n",
      "Bob Brown\n",
      "--------------------\n",
      "Paying Employees\n",
      "Payment check for: Sarah Hess\n",
      "Amount: $961.54\n",
      "*****\n",
      "Payment check for: Lee Smith\n",
      "Amount: $1,250.00\n",
      "*****\n",
      "Payment check for: Bob Brown\n",
      "Amount: $1,576.92\n",
      "*****\n"
     ]
    }
   ],
   "source": [
    "class Company:\n",
    "    def __init__(self):\n",
    "        self.employees = []\n",
    "\n",
    "    def add_employee(self, new_employee):\n",
    "        self.employees.append(new_employee)\n",
    "\n",
    "    def display_employees(self):\n",
    "        print('Current Employees:')\n",
    "        for i in self.employees:\n",
    "            print(i.fname, i.lname)\n",
    "        print('-'*20)\n",
    "\n",
    "    def pay_employees(self):\n",
    "        print('Paying Employees')\n",
    "        for i in self.employees:\n",
    "            print('Payment check for:', i.fname, i.lname)\n",
    "            print(f'Amount: ${i.calculate_paycheck():,.2f}')\n",
    "            print('*' * 5)\n",
    "\n",
    "def main():\n",
    "    my_company = Company()\n",
    "\n",
    "    employee1 = SalaryEmployee('Sarah', 'Hess', 50000)\n",
    "    my_company.add_employee(employee1)\n",
    "    employee2 = HourlyEmployee('Lee', 'Smith', 25, 50)\n",
    "    my_company.add_employee(employee2)\n",
    "    employee3 = CommissionEmployee('Bob', 'Brown', 30000, 5, 200)\n",
    "    my_company.add_employee(employee3)\n",
    "\n",
    "    my_company.display_employees()\n",
    "    my_company.pay_employees()\n",
    "\n",
    "main()\n"
   ]
  },
  {
   "cell_type": "code",
   "execution_count": null,
   "metadata": {},
   "outputs": [],
   "source": []
  }
 ],
 "metadata": {
  "kernelspec": {
   "display_name": "Python 3",
   "language": "python",
   "name": "python3"
  },
  "language_info": {
   "codemirror_mode": {
    "name": "ipython",
    "version": 3
   },
   "file_extension": ".py",
   "mimetype": "text/x-python",
   "name": "python",
   "nbconvert_exporter": "python",
   "pygments_lexer": "ipython3",
   "version": "3.9.0"
  },
  "orig_nbformat": 4
 },
 "nbformat": 4,
 "nbformat_minor": 2
}
