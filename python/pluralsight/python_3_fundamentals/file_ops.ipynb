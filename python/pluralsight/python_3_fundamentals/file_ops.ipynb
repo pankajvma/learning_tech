{
 "cells": [
  {
   "attachments": {},
   "cell_type": "markdown",
   "metadata": {},
   "source": [
    "### Reading a file"
   ]
  },
  {
   "cell_type": "code",
   "execution_count": 21,
   "metadata": {},
   "outputs": [],
   "source": [
    "file = open('acronyms.txt')\n",
    "try:\n",
    "    # Do file ops here\n",
    "    pass\n",
    "finally: \n",
    "    file.close()"
   ]
  },
  {
   "attachments": {},
   "cell_type": "markdown",
   "metadata": {},
   "source": [
    "Using the with keyword is a way of doin the similar operations as above and makking sure that a file is closed."
   ]
  },
  {
   "cell_type": "code",
   "execution_count": 22,
   "metadata": {},
   "outputs": [],
   "source": [
    "def find_acronym():    \n",
    "    look_up = input('What acronym you want to lookup?\\n')\n",
    "\n",
    "    found = False\n",
    "\n",
    "    try:\n",
    "        with open('acronyms.txt') as file:\n",
    "            # result = file.read() # return the whole file  as a String by default. Or it will return the specified number of bytes.\n",
    "            # result = file.readline() # returns the next line\n",
    "            # result = file.readlines() # return list of lines\n",
    "            \n",
    "            # for line in result: \n",
    "            #     print(line)\n",
    "\n",
    "\n",
    "            # Or we can just loop over the file object\n",
    "            for line in file: \n",
    "                if look_up.lower() in line.lower():\n",
    "                    print(line)\n",
    "                    found = True\n",
    "                    break\n",
    "    except FileNotFoundError as e:\n",
    "        print('File not found')\n",
    "        return\n",
    "\n",
    "        if not found:\n",
    "            print('The  acronym does not exist')"
   ]
  },
  {
   "attachments": {},
   "cell_type": "markdown",
   "metadata": {},
   "source": [
    "### Writing into a file\n",
    "For demonstration purpose, We want to:\n",
    "- Ask the user what acronym they want to add\n",
    "- Then ask the user for the definition\n",
    "- Open the file\n",
    "- Write the new acronym and definition to the file"
   ]
  },
  {
   "cell_type": "code",
   "execution_count": 23,
   "metadata": {},
   "outputs": [],
   "source": [
    "def add_acronym():\n",
    "    acronym = input('What acronym do you want to add?\\n')\n",
    "    definition = input(f'Please add the definition for {acronym}:\\n')\n",
    "\n",
    "    with open('acronyms.txt', 'a') as file: # opeining a file in 'w' mode clears all the data before writing. Hence we are using 'a' (append)\n",
    "        file.write(f'{acronym} - {definition}') "
   ]
  },
  {
   "cell_type": "code",
   "execution_count": 24,
   "metadata": {},
   "outputs": [],
   "source": [
    "def main():\n",
    "    choice = input('Do you want to find(F) or add(A) an acronym?\\n')\n",
    "    if choice in 'Ff':\n",
    "        find_acronym()\n",
    "    elif choice in 'Aa':\n",
    "        add_acronym()\n",
    "    else:\n",
    "        print('Please choose from find(F) or add(A)')\n",
    "        main()"
   ]
  },
  {
   "cell_type": "code",
   "execution_count": 25,
   "metadata": {},
   "outputs": [
    {
     "name": "stdout",
     "output_type": "stream",
     "text": [
      "www\t-\tWorld Wide Web\n",
      "\n"
     ]
    }
   ],
   "source": [
    "main()"
   ]
  },
  {
   "attachments": {},
   "cell_type": "markdown",
   "metadata": {},
   "source": [
    "### File Manipulation\n",
    "Python has several built-in modules for handdling files: os, shutil, and pathlib.\n",
    "#### Example\n",
    "Let's say we have a lot of file in the desktop folder and we want to move them to a new *CleanedUp* folder.\n",
    "We will have to follow the steps listed below to accomplish this task.\n",
    "1. Make a folder CleanedUp/\n",
    "2. List the files in the Desktop/ folder\n",
    "3. For each file in the Desktop/ folder  \n",
    "    - Move the file to the CleanedUp/ folder\n",
    "\n",
    "We will use the os module to complete this task. This module provides a portable way of using operating system dependent functionality."
   ]
  },
  {
   "cell_type": "code",
   "execution_count": 39,
   "metadata": {},
   "outputs": [
    {
     "name": "stdout",
     "output_type": "stream",
     "text": [
      "File: Agency Name.jpg\n",
      "File: Application for Degree Certificate.pdf\n",
      "File: Brave.lnk\n",
      "File: completion.jpg\n",
      "File: desktop.ini\n",
      "File: dev basics.txt\n",
      "File: Discord.lnk\n",
      "Directory: Docs\n",
      "File: Docs.zip\n",
      "File: Eclipse IDE for Enterprise Java and Web Developers - 2022-12.lnk\n",
      "File: Forms & Documents.jpg\n",
      "File: game.py\n",
      "File: Google Chrome.lnk\n",
      "File: Google Duo.lnk\n",
      "File: HardwareScanLog_20230301_124020.html\n",
      "File: Interview Prep.txt\n",
      "File: Letter of Appointment.pdf\n",
      "File: May2022.jpg\n",
      "File: Microsoft Edge.lnk\n",
      "File: Naukri Profile summary.txt\n",
      "File: New Microsoft Excel Worksheet.xlsx\n",
      "File: New Microsoft Word Document (2).docx\n",
      "File: New Microsoft Word Document.docx\n",
      "File: New Text Document.txt\n",
      "File: Postman.lnk\n",
      "File: README.md\n",
      "File: S3 Browser.lnk\n",
      "File: Screenshot_1.jpg\n",
      "File: Screenshot_2.jpg\n",
      "File: Seat number.jpg\n",
      "File: SketchBook.lnk\n",
      "File: Zoom.lnk\n"
     ]
    }
   ],
   "source": [
    "import os\n",
    "\n",
    "folder = 'C:/Users/Lenovo/Desktop'\n",
    "\n",
    "entries = os.scandir(folder) # To list all the entries (files and folders) in a folder \n",
    "\n",
    "for entry in entries: # scandir return ScandirIterator\n",
    "    if os.path.isfile(entry):\n",
    "        print('File:', entry.name)\n",
    "    elif os.path.isdir(entry):\n",
    "        print('Directory:', entry.name)"
   ]
  },
  {
   "cell_type": "code",
   "execution_count": 43,
   "metadata": {},
   "outputs": [],
   "source": [
    "import os\n",
    "\n",
    "folder_original = 'C:/Users/Lenovo/Desktop/'\n",
    "folder_destination = 'C:/Users/Lenovo/Desktop/CleanedUp/'\n",
    "\n",
    "os.mkdir(folder_destination)\n",
    "\n",
    "entries = os.scandir(folder_original) # To list all the entries (files and folders) in a folder \n",
    "\n",
    "for entry in entries: # scandir return ScandirIterator\n",
    "\n",
    "    location_original = os.path.join(folder_original, entry.name)\n",
    "    location_destination = os.path.join(folder_destination, entry.name)\n",
    "    if os.path.isfile(entry): # or if os.path.isfile(location_original):\n",
    "        os.rename(location_original, location_destination)"
   ]
  }
 ],
 "metadata": {
  "kernelspec": {
   "display_name": "Python 3",
   "language": "python",
   "name": "python3"
  },
  "language_info": {
   "codemirror_mode": {
    "name": "ipython",
    "version": 3
   },
   "file_extension": ".py",
   "mimetype": "text/x-python",
   "name": "python",
   "nbconvert_exporter": "python",
   "pygments_lexer": "ipython3",
   "version": "3.9.0"
  },
  "orig_nbformat": 4
 },
 "nbformat": 4,
 "nbformat_minor": 2
}
